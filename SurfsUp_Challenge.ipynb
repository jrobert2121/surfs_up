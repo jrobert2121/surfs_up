{
 "cells": [
  {
   "cell_type": "code",
   "execution_count": 13,
   "metadata": {},
   "outputs": [],
   "source": [
    "# Dependencies\n",
    "import numpy as np\n",
    "import pandas as pd\n",
    "# Python SQL toolkit and Object Relational Mapper\n",
    "import sqlalchemy\n",
    "from sqlalchemy.ext.automap import automap_base\n",
    "from sqlalchemy.orm import Session\n",
    "from sqlalchemy import create_engine, func"
   ]
  },
  {
   "cell_type": "code",
   "execution_count": 14,
   "metadata": {},
   "outputs": [],
   "source": [
    "engine = create_engine(\"sqlite:///hawaii.sqlite\")\n",
    "\n",
    "# reflect an existing database into a new model\n",
    "Base = automap_base()\n",
    "# reflect the tables\n",
    "Base.prepare(engine, reflect=True)\n",
    "\n",
    "# Save references to each table\n",
    "Measurement = Base.classes.measurement\n",
    "Station = Base.classes.station"
   ]
  },
  {
   "cell_type": "code",
   "execution_count": 15,
   "metadata": {},
   "outputs": [],
   "source": [
    "# Create our session (link) from Python to the DB\n",
    "session = Session(engine)"
   ]
  },
  {
   "cell_type": "markdown",
   "metadata": {},
   "source": [
    "## D1: Determine the Summary Statistics for June"
   ]
  },
  {
   "cell_type": "code",
   "execution_count": 22,
   "metadata": {},
   "outputs": [
    {
     "name": "stdout",
     "output_type": "stream",
     "text": [
      "[('2010-06-01', 78.0), ('2010-06-02', 76.0), ('2010-06-03', 78.0), ('2010-06-04', 76.0), ('2010-06-05', 77.0), ('2010-06-06', 78.0), ('2010-06-07', 77.0), ('2010-06-08', 78.0), ('2010-06-09', 78.0), ('2010-06-10', 79.0), ('2010-06-11', 78.0), ('2010-06-12', 78.0), ('2010-06-13', 78.0), ('2010-06-14', 77.0), ('2010-06-15', 78.0), ('2010-06-16', 78.0), ('2010-06-17', 77.0), ('2010-06-18', 77.0), ('2010-06-19', 82.0), ('2010-06-20', 78.0), ('2010-06-21', 78.0), ('2010-06-22', 78.0), ('2010-06-23', 78.0), ('2010-06-24', 78.0), ('2010-06-25', 77.0), ('2010-06-26', 76.0), ('2010-06-27', 78.0), ('2010-06-28', 78.0), ('2010-06-29', 78.0), ('2010-06-30', 78.0), ('2011-06-01', 77.0), ('2011-06-02', 78.0), ('2011-06-03', 73.0), ('2011-06-04', 70.0), ('2011-06-05', 76.0), ('2011-06-06', 77.0), ('2011-06-07', 77.0), ('2011-06-08', 77.0), ('2011-06-09', 77.0), ('2011-06-10', 78.0), ('2011-06-11', 77.0), ('2011-06-12', 77.0), ('2011-06-13', 78.0), ('2011-06-14', 78.0), ('2011-06-15', 77.0), ('2011-06-16', 74.0), ('2011-06-17', 78.0), ('2011-06-18', 78.0), ('2011-06-19', 75.0), ('2011-06-20', 76.0), ('2011-06-21', 76.0), ('2011-06-22', 74.0), ('2011-06-23', 72.0), ('2011-06-24', 77.0), ('2011-06-25', 78.0), ('2011-06-26', 76.0), ('2011-06-27', 77.0), ('2011-06-28', 75.0), ('2011-06-29', 77.0), ('2011-06-30', 74.0), ('2012-06-01', 76.0), ('2012-06-02', 76.0), ('2012-06-03', 75.0), ('2012-06-04', 77.0), ('2012-06-05', 77.0), ('2012-06-06', 76.0), ('2012-06-07', 78.0), ('2012-06-08', 77.0), ('2012-06-09', 76.0), ('2012-06-10', 77.0), ('2012-06-11', 76.0), ('2012-06-12', 76.0), ('2012-06-13', 77.0), ('2012-06-14', 77.0), ('2012-06-15', 78.0), ('2012-06-16', 77.0), ('2012-06-17', 77.0), ('2012-06-18', 77.0), ('2012-06-19', 76.0), ('2012-06-20', 75.0), ('2012-06-21', 76.0), ('2012-06-22', 76.0), ('2012-06-23', 77.0), ('2012-06-24', 76.0), ('2012-06-25', 73.0), ('2012-06-26', 73.0), ('2012-06-27', 75.0), ('2012-06-28', 77.0), ('2012-06-29', 76.0), ('2012-06-30', 77.0), ('2013-06-01', 79.0), ('2013-06-02', 78.0), ('2013-06-03', 79.0), ('2013-06-04', 78.0), ('2013-06-05', 78.0), ('2013-06-06', 79.0), ('2013-06-07', 77.0), ('2013-06-08', 77.0), ('2013-06-09', 77.0), ('2013-06-10', 77.0), ('2013-06-11', 77.0), ('2013-06-12', 78.0), ('2013-06-13', 77.0), ('2013-06-14', 76.0), ('2013-06-15', 78.0), ('2013-06-16', 78.0), ('2013-06-17', 77.0), ('2013-06-18', 78.0), ('2013-06-19', 78.0), ('2013-06-20', 73.0), ('2013-06-21', 76.0), ('2013-06-22', 77.0), ('2013-06-23', 75.0), ('2013-06-24', 76.0), ('2013-06-25', 74.0), ('2013-06-26', 75.0), ('2013-06-27', 77.0), ('2013-06-28', 76.0), ('2013-06-29', 77.0), ('2013-06-30', 78.0), ('2014-06-01', 79.0), ('2014-06-02', 77.0), ('2014-06-03', 78.0), ('2014-06-04', 79.0), ('2014-06-05', 78.0), ('2014-06-06', 78.0), ('2014-06-07', 78.0), ('2014-06-08', 78.0), ('2014-06-09', 79.0), ('2014-06-10', 79.0), ('2014-06-11', 82.0), ('2014-06-12', 80.0), ('2014-06-13', 79.0), ('2014-06-14', 79.0), ('2014-06-15', 78.0), ('2014-06-16', 78.0), ('2014-06-17', 77.0), ('2014-06-18', 78.0), ('2014-06-19', 78.0), ('2014-06-20', 73.0), ('2014-06-21', 75.0), ('2014-06-22', 75.0), ('2014-06-23', 76.0), ('2014-06-24', 84.0), ('2014-06-25', 79.0), ('2014-06-26', 76.0), ('2014-06-27', 79.0), ('2014-06-28', 79.0), ('2014-06-29', 77.0), ('2014-06-30', 79.0), ('2015-06-01', 78.0), ('2015-06-02', 78.0), ('2015-06-03', 79.0), ('2015-06-04', 77.0), ('2015-06-05', 79.0), ('2015-06-06', 78.0), ('2015-06-07', 78.0), ('2015-06-08', 78.0), ('2015-06-09', 79.0), ('2015-06-10', 77.0), ('2015-06-11', 78.0), ('2015-06-12', 78.0), ('2015-06-13', 78.0), ('2015-06-14', 78.0), ('2015-06-15', 79.0), ('2015-06-16', 79.0), ('2015-06-17', 77.0), ('2015-06-18', 78.0), ('2015-06-19', 78.0), ('2015-06-20', 78.0), ('2015-06-21', 79.0), ('2015-06-22', 79.0), ('2015-06-23', 77.0), ('2015-06-24', 79.0), ('2015-06-25', 79.0), ('2015-06-26', 79.0), ('2015-06-27', 81.0), ('2015-06-28', 76.0), ('2015-06-29', 80.0), ('2015-06-30', 78.0), ('2016-06-01', 76.0), ('2016-06-02', 71.0), ('2016-06-03', 71.0), ('2016-06-04', 74.0), ('2016-06-05', 76.0), ('2016-06-06', 78.0), ('2016-06-07', 77.0), ('2016-06-08', 77.0), ('2016-06-09', 73.0), ('2016-06-10', 77.0), ('2016-06-11', 78.0), ('2016-06-12', 78.0), ('2016-06-13', 80.0), ('2016-06-14', 79.0), ('2016-06-15', 78.0), ('2016-06-16', 77.0), ('2016-06-17', 76.0), ('2016-06-18', 77.0), ('2016-06-19', 77.0), ('2016-06-20', 78.0), ('2016-06-21', 80.0), ('2016-06-22', 79.0), ('2016-06-23', 79.0), ('2016-06-24', 77.0), ('2016-06-25', 78.0), ('2016-06-26', 79.0), ('2016-06-27', 80.0), ('2016-06-28', 76.0), ('2016-06-29', 79.0), ('2016-06-30', 80.0), ('2017-06-01', 79.0), ('2017-06-02', 79.0), ('2017-06-03', 79.0), ('2017-06-04', 79.0), ('2017-06-05', 80.0), ('2017-06-06', 79.0), ('2017-06-07', 79.0), ('2017-06-08', 80.0), ('2017-06-09', 80.0), ('2017-06-10', 77.0), ('2017-06-11', 79.0), ('2017-06-12', 83.0), ('2017-06-13', 80.0), ('2017-06-14', 80.0), ('2017-06-15', 78.0), ('2017-06-16', 79.0), ('2017-06-17', 80.0), ('2017-06-18', 77.0), ('2017-06-19', 80.0), ('2017-06-20', 78.0), ('2017-06-21', 79.0), ('2017-06-22', 80.0), ('2017-06-23', 78.0), ('2017-06-24', 80.0), ('2017-06-25', 80.0), ('2017-06-26', 81.0), ('2017-06-27', 80.0), ('2017-06-28', 79.0), ('2017-06-29', 79.0), ('2017-06-30', 75.0)]\n"
     ]
    }
   ],
   "source": [
    "# 1. Import the sqlalchemy extract function.\n",
    "from sqlalchemy import extract\n",
    "\n",
    "# 2. Write a query that filters the Measurement table to retrieve the temperatures for the month of June. \n",
    "session.query(Measurement.date, Measurement.tobs).\\\n",
    "filter(func.strftime(\"%m\", Measurement.date) == \"06\").\\\n",
    "group_by(Measurement.date).\\\n",
    "order_by(Measurement.date).all()\n",
    "print(june_results)"
   ]
  },
  {
   "cell_type": "code",
   "execution_count": 28,
   "metadata": {},
   "outputs": [],
   "source": [
    "#  3. Convert the June temperatures to a list.\n",
    "june_temps = session.query(Measurement.date, Measurement.tobs).\\\n",
    "filter(func.strftime(\"%m\", Measurement.date) == \"06\").all()"
   ]
  },
  {
   "cell_type": "code",
   "execution_count": 29,
   "metadata": {},
   "outputs": [
    {
     "data": {
      "text/html": [
       "<div>\n",
       "<style scoped>\n",
       "    .dataframe tbody tr th:only-of-type {\n",
       "        vertical-align: middle;\n",
       "    }\n",
       "\n",
       "    .dataframe tbody tr th {\n",
       "        vertical-align: top;\n",
       "    }\n",
       "\n",
       "    .dataframe thead th {\n",
       "        text-align: right;\n",
       "    }\n",
       "</style>\n",
       "<table border=\"1\" class=\"dataframe\">\n",
       "  <thead>\n",
       "    <tr style=\"text-align: right;\">\n",
       "      <th></th>\n",
       "      <th>date</th>\n",
       "      <th>temperature</th>\n",
       "    </tr>\n",
       "  </thead>\n",
       "  <tbody>\n",
       "    <tr>\n",
       "      <th>0</th>\n",
       "      <td>2010-06-01</td>\n",
       "      <td>78.0</td>\n",
       "    </tr>\n",
       "    <tr>\n",
       "      <th>1</th>\n",
       "      <td>2010-06-02</td>\n",
       "      <td>76.0</td>\n",
       "    </tr>\n",
       "    <tr>\n",
       "      <th>2</th>\n",
       "      <td>2010-06-03</td>\n",
       "      <td>78.0</td>\n",
       "    </tr>\n",
       "    <tr>\n",
       "      <th>3</th>\n",
       "      <td>2010-06-04</td>\n",
       "      <td>76.0</td>\n",
       "    </tr>\n",
       "    <tr>\n",
       "      <th>4</th>\n",
       "      <td>2010-06-05</td>\n",
       "      <td>77.0</td>\n",
       "    </tr>\n",
       "    <tr>\n",
       "      <th>...</th>\n",
       "      <td>...</td>\n",
       "      <td>...</td>\n",
       "    </tr>\n",
       "    <tr>\n",
       "      <th>1695</th>\n",
       "      <td>2017-06-26</td>\n",
       "      <td>79.0</td>\n",
       "    </tr>\n",
       "    <tr>\n",
       "      <th>1696</th>\n",
       "      <td>2017-06-27</td>\n",
       "      <td>74.0</td>\n",
       "    </tr>\n",
       "    <tr>\n",
       "      <th>1697</th>\n",
       "      <td>2017-06-28</td>\n",
       "      <td>74.0</td>\n",
       "    </tr>\n",
       "    <tr>\n",
       "      <th>1698</th>\n",
       "      <td>2017-06-29</td>\n",
       "      <td>76.0</td>\n",
       "    </tr>\n",
       "    <tr>\n",
       "      <th>1699</th>\n",
       "      <td>2017-06-30</td>\n",
       "      <td>75.0</td>\n",
       "    </tr>\n",
       "  </tbody>\n",
       "</table>\n",
       "<p>1700 rows × 2 columns</p>\n",
       "</div>"
      ],
      "text/plain": [
       "            date  temperature\n",
       "0     2010-06-01         78.0\n",
       "1     2010-06-02         76.0\n",
       "2     2010-06-03         78.0\n",
       "3     2010-06-04         76.0\n",
       "4     2010-06-05         77.0\n",
       "...          ...          ...\n",
       "1695  2017-06-26         79.0\n",
       "1696  2017-06-27         74.0\n",
       "1697  2017-06-28         74.0\n",
       "1698  2017-06-29         76.0\n",
       "1699  2017-06-30         75.0\n",
       "\n",
       "[1700 rows x 2 columns]"
      ]
     },
     "execution_count": 29,
     "metadata": {},
     "output_type": "execute_result"
    }
   ],
   "source": [
    "# 4. Create a DataFrame from the list of temperatures for the month of June. \n",
    "june_df = pd.DataFrame(june_temps, columns=['date','temperature'])\n",
    "june_df"
   ]
  },
  {
   "cell_type": "code",
   "execution_count": 30,
   "metadata": {},
   "outputs": [
    {
     "data": {
      "text/html": [
       "<div>\n",
       "<style scoped>\n",
       "    .dataframe tbody tr th:only-of-type {\n",
       "        vertical-align: middle;\n",
       "    }\n",
       "\n",
       "    .dataframe tbody tr th {\n",
       "        vertical-align: top;\n",
       "    }\n",
       "\n",
       "    .dataframe thead th {\n",
       "        text-align: right;\n",
       "    }\n",
       "</style>\n",
       "<table border=\"1\" class=\"dataframe\">\n",
       "  <thead>\n",
       "    <tr style=\"text-align: right;\">\n",
       "      <th></th>\n",
       "      <th>temperature</th>\n",
       "    </tr>\n",
       "  </thead>\n",
       "  <tbody>\n",
       "    <tr>\n",
       "      <th>count</th>\n",
       "      <td>1700.000000</td>\n",
       "    </tr>\n",
       "    <tr>\n",
       "      <th>mean</th>\n",
       "      <td>74.944118</td>\n",
       "    </tr>\n",
       "    <tr>\n",
       "      <th>std</th>\n",
       "      <td>3.257417</td>\n",
       "    </tr>\n",
       "    <tr>\n",
       "      <th>min</th>\n",
       "      <td>64.000000</td>\n",
       "    </tr>\n",
       "    <tr>\n",
       "      <th>25%</th>\n",
       "      <td>73.000000</td>\n",
       "    </tr>\n",
       "    <tr>\n",
       "      <th>50%</th>\n",
       "      <td>75.000000</td>\n",
       "    </tr>\n",
       "    <tr>\n",
       "      <th>75%</th>\n",
       "      <td>77.000000</td>\n",
       "    </tr>\n",
       "    <tr>\n",
       "      <th>max</th>\n",
       "      <td>85.000000</td>\n",
       "    </tr>\n",
       "  </tbody>\n",
       "</table>\n",
       "</div>"
      ],
      "text/plain": [
       "       temperature\n",
       "count  1700.000000\n",
       "mean     74.944118\n",
       "std       3.257417\n",
       "min      64.000000\n",
       "25%      73.000000\n",
       "50%      75.000000\n",
       "75%      77.000000\n",
       "max      85.000000"
      ]
     },
     "execution_count": 30,
     "metadata": {},
     "output_type": "execute_result"
    }
   ],
   "source": [
    "# 5. Calculate and print out the summary statistics for the June temperature DataFrame.\n",
    "june_df.describe()"
   ]
  },
  {
   "cell_type": "markdown",
   "metadata": {},
   "source": [
    "## D2: Determine the Summary Statistics for December"
   ]
  },
  {
   "cell_type": "code",
   "execution_count": 8,
   "metadata": {},
   "outputs": [],
   "source": [
    "# 6. Write a query that filters the Measurement table to retrieve the temperatures for the month of December.\n"
   ]
  },
  {
   "cell_type": "code",
   "execution_count": 9,
   "metadata": {},
   "outputs": [],
   "source": [
    "# 7. Convert the December temperatures to a list.\n"
   ]
  },
  {
   "cell_type": "code",
   "execution_count": 10,
   "metadata": {},
   "outputs": [],
   "source": [
    "# 8. Create a DataFrame from the list of temperatures for the month of December. \n"
   ]
  },
  {
   "cell_type": "code",
   "execution_count": 11,
   "metadata": {},
   "outputs": [],
   "source": [
    "# 9. Calculate and print out the summary statistics for the Decemeber temperature DataFrame.\n"
   ]
  }
 ],
 "metadata": {
  "kernelspec": {
   "display_name": "PythonData",
   "language": "python",
   "name": "pythondata"
  },
  "language_info": {
   "codemirror_mode": {
    "name": "ipython",
    "version": 3
   },
   "file_extension": ".py",
   "mimetype": "text/x-python",
   "name": "python",
   "nbconvert_exporter": "python",
   "pygments_lexer": "ipython3",
   "version": "3.7.10"
  }
 },
 "nbformat": 4,
 "nbformat_minor": 2
}
